{
  "nbformat": 4,
  "nbformat_minor": 0,
  "metadata": {
    "colab": {
      "private_outputs": true,
      "provenance": [],
      "toc_visible": true,
      "authorship_tag": "ABX9TyMPVSpTAaVO6R1dbaBysn79",
      "include_colab_link": true
    },
    "kernelspec": {
      "name": "python3",
      "display_name": "Python 3"
    },
    "language_info": {
      "name": "python"
    }
  },
  "cells": [
    {
      "cell_type": "markdown",
      "metadata": {
        "id": "view-in-github",
        "colab_type": "text"
      },
      "source": [
        "<a href=\"https://colab.research.google.com/github/gihoonp/ADP_certificate_preperation/blob/main/ADP_%ED%8C%8C%EC%9D%B4%EC%8D%AC%EC%9D%84_%EC%9D%B4%EC%9A%A9%ED%95%9C_%EB%B6%84%EC%84%9D_%ED%86%B5%EA%B3%84%ED%95%99%EC%9D%98_%EC%82%AC%EB%B3%B8.ipynb\" target=\"_parent\"><img src=\"https://colab.research.google.com/assets/colab-badge.svg\" alt=\"Open In Colab\"/></a>"
      ]
    },
    {
      "cell_type": "markdown",
      "source": [
        "# 2장 표와 그림을 통한 자료 요약\n"
      ],
      "metadata": {
        "id": "KSUCw0oCy9Ic"
      }
    },
    {
      "cell_type": "code",
      "source": [
        "!sudo apt-get install -y fonts-nanum\n",
        "!sudo fc-cache -fv\n",
        "!rm ~/.cache/matplotlib -rf"
      ],
      "metadata": {
        "id": "gPWA_AB82Jts"
      },
      "execution_count": null,
      "outputs": []
    },
    {
      "cell_type": "code",
      "source": [
        "import matplotlib.pyplot as plt\n",
        "plt.rc('font', family='NanumBarunGothic')"
      ],
      "metadata": {
        "id": "dI8fYFjh2bQ_"
      },
      "execution_count": null,
      "outputs": []
    },
    {
      "cell_type": "code",
      "source": [
        "#3-1.\n",
        "import pandas as pd\n",
        "import numpy as np\n",
        "import matplotlib.pyplot as plt\n",
        "import seaborn as sns\n",
        "df=pd.DataFrame(columns=['단과대학','학생수(명)','학과수'])\n",
        "df['단과대학']=['공과대','자연대','경영대','사범대','법대','사회대','가정대']\n",
        "df['학생수(명)']=[1300,300,500,300,200,400,170]\n",
        "df['학과수']=[20,6,5,6,3,8,3]\n",
        "df"
      ],
      "metadata": {
        "id": "EhkUwuSGzBiv"
      },
      "execution_count": null,
      "outputs": []
    },
    {
      "cell_type": "code",
      "source": [
        "#3-1.(1) 원형그래프, 상대도수 막대그래프\n",
        "df['학생수_상대도수'] = df['학생수(명)']/sum(df['학생수(명)'])\n",
        "df_descending = df.sort_values(by='학생수(명)', ascending=False)\n",
        "fig,ax = plt.subplots(1,2,figsize=(9,6))\n",
        "ax[0].pie(df_descending['학생수(명)'], labels=df_descending['단과대학'], autopct=\"%.2f%%\")\n",
        "ax[0].set_title('학생수 원형그래프')\n",
        "ax[1].bar(df_descending['단과대학'], df_descending['학생수_상대도수'])\n",
        "ax[1].set_title('학생수 상대도수 막대그래프')\n",
        "plt.show()"
      ],
      "metadata": {
        "id": "qfPiTMXuzBlE"
      },
      "execution_count": null,
      "outputs": []
    },
    {
      "cell_type": "code",
      "source": [
        "#3-1.(2) 분포 해석"
      ],
      "metadata": {
        "id": "l3O1LpBV2dKt"
      },
      "execution_count": null,
      "outputs": []
    },
    {
      "cell_type": "markdown",
      "source": [
        "공과대, 경영대에 속한 학생수가 전체 학생수의 절반 넘게 차지한다."
      ],
      "metadata": {
        "id": "G2RuohJs3Yq2"
      }
    },
    {
      "cell_type": "code",
      "source": [
        "#3-1.(3) 파이차트의 경우, 각 범주가 전체에서 차지하는 비율을 파악하기 용이하고, 상대도수 막대그래프프는 각 범주끼리 도수 크기의 차이를 비교하기 쉽다."
      ],
      "metadata": {
        "id": "ZlAmQd5e3naY"
      },
      "execution_count": null,
      "outputs": []
    },
    {
      "cell_type": "code",
      "source": [
        "#3-1.(4) 평균 학생수가 가장 큰 두 단과대학에 소속된 학생수는 전체 학생생수의 몇 퍼센트?"
      ],
      "metadata": {
        "id": "cVttm-k649RY"
      },
      "execution_count": null,
      "outputs": []
    },
    {
      "cell_type": "code",
      "source": [
        "list(df_descending['단과대학'][:2])"
      ],
      "metadata": {
        "id": "wPY_5_Dt4RnX"
      },
      "execution_count": null,
      "outputs": []
    },
    {
      "cell_type": "code",
      "source": [
        "print(str(np.round(df[(df['단과대학']=='공과대')|(df['단과대학']=='경영대')]['학생수_상대도수'].sum()*100,2))+\"%\")"
      ],
      "metadata": {
        "id": "ij6cy1zs4XH4"
      },
      "execution_count": null,
      "outputs": []
    },
    {
      "cell_type": "code",
      "source": [
        "#3-5. 파레토그림 그리기 (= 오름차순 상대도수그래프 + 꺾은선 그래프)\n",
        "df=pd.DataFrame(columns=['결함의 종류','발생건수'])\n",
        "df['결함의 종류']=['차체','보조장비','전기','전동장치','엔진']\n",
        "df['발생건수']=[72,53,12,8,5]\n",
        "df"
      ],
      "metadata": {
        "id": "mardLiSS5odo"
      },
      "execution_count": null,
      "outputs": []
    },
    {
      "cell_type": "code",
      "source": [
        "df['상대도수'] = df['발생건수']/df['발생건수'].sum()\n",
        "df['누적상대도수'] = df['상대도수'].cumsum()\n",
        "df"
      ],
      "metadata": {
        "id": "28nuuiUh6lBA"
      },
      "execution_count": null,
      "outputs": []
    },
    {
      "cell_type": "code",
      "source": [
        "df.set_index('결함의 종류')"
      ],
      "metadata": {
        "id": "-GYN1j0X-kDt"
      },
      "execution_count": null,
      "outputs": []
    },
    {
      "cell_type": "code",
      "source": [
        "plt.bar(df['결함의 종류'], df['상대도수'], color='red')\n",
        "plt.plot(df['누적상대도수'], color='blue')\n",
        "plt.title('파레토그림')\n",
        "plt.show()"
      ],
      "metadata": {
        "id": "XvHBZqvT65P0"
      },
      "execution_count": null,
      "outputs": []
    },
    {
      "cell_type": "code",
      "source": [
        "# 종합문제 6-1.\n",
        "df=pd.DataFrame(columns=['업종','회사수','감축(%)','동일수준(%)','증가(%)'])\n",
        "df['업종']=['A','B','C','D','E','F','G','H','I','J','K','L','M','N']\n",
        "df['회사수']=[18,14,9,19,7,6,6,14,19,9,17,10,6,8]\n",
        "df['감축(%)']=[27.8,14.3,44.4,10.5,14.3,16.7,100.0,28.6,26.3,11.1,23.5,20.0,0.0,75.0]\n",
        "df['동일수준(%)']=[22.2,50.0,22.2,42.1,0.0,16.7,0.0,0.0,5.3,33.3,11.8,40.0,16.7,12.5]\n",
        "df['증가(%)']=[50.0,35.7,33.3,47.4,85.7,66.7,0.0,71.4,68.4,55.5,64.7,40.0,83.3,12.5]\n",
        "df"
      ],
      "metadata": {
        "id": "eSTO_40i8c1Z"
      },
      "execution_count": null,
      "outputs": []
    },
    {
      "cell_type": "code",
      "source": [
        "# 6-1, (1) 투자 증가, 동일수준, 감축 3범주로 그룹화하여 원형그래프와 상대도수 막대그래프 작성\n",
        "inc = []\n",
        "equ = []\n",
        "dec = []\n",
        "for i in range(len(df)):\n",
        "    inc.append(df.loc[i,'회사수']*df.loc[i,'증가(%)']/100)\n",
        "    equ.append(df.loc[i,'회사수']*df.loc[i,'동일수준(%)']/100)\n",
        "    dec.append(df.loc[i,'회사수']*df.loc[i,'감축(%)']/100)\n",
        "\n",
        "data = {\"업체수\":[sum(inc),sum(equ),sum(dec)]}\n",
        "df_2=pd.DataFrame(index=['감축','동일수준','증가'], data=data )\n",
        "df_2['상대도수'] = df_2['업체수']/df_2['업체수'].sum()\n",
        "df_2['누적상대도수'] = df_2['상대도수'].cumsum()\n",
        "df_2"
      ],
      "metadata": {
        "id": "ibp1416H8c3-"
      },
      "execution_count": null,
      "outputs": []
    },
    {
      "cell_type": "code",
      "source": [
        "fig,ax = plt.subplots(1,2,figsize=(6,3))\n",
        "ax[0].pie(df_2['업체수'], labels=df_2.index, autopct=\"%.2f%%\")\n",
        "ax[0].set_title('원형그래프')\n",
        "ax[1].bar(df_2.index, df_2['상대도수'])\n",
        "ax[1].set_title('상대도수 막대그래프')\n",
        "plt.show()"
      ],
      "metadata": {
        "id": "UQH1x6k_8c55"
      },
      "execution_count": null,
      "outputs": []
    },
    {
      "cell_type": "code",
      "source": [
        "# 6-1.(2) 제조업체 내년도 투자심리 예측 : 투자를 늘리지 않겠다는 제조업체 수가 전체의 73.46%. 내년 투자가 위축될 것으로 예측됨.\n",
        "print(np.round(df_2.loc[(df_2.index=='감축')|(df_2.index=='동일수준'), '상대도수'].sum()*100,2))"
      ],
      "metadata": {
        "id": "77WkUtqe8c72"
      },
      "execution_count": null,
      "outputs": []
    },
    {
      "cell_type": "code",
      "source": [
        "# 6-3. 도수분포표 작성\n",
        "df = [4,2,1,3,3,2,4,2,1,1,2,2,2,2,1,3,4,1,4,4,\n",
        "               1,3,2,4,1,4,3,3,1,1,1,2,1,1,4,4,4,4,4,1,\n",
        "               2,2,2,4,4,4,1,3,4,2]\n",
        "df_2 = pd.DataFrame(df, columns=['설문응답'])"
      ],
      "metadata": {
        "id": "dKljr75_FrmG"
      },
      "execution_count": null,
      "outputs": []
    },
    {
      "cell_type": "code",
      "source": [
        "df_2.head()"
      ],
      "metadata": {
        "id": "dqnZT8PqV4Kn"
      },
      "execution_count": null,
      "outputs": []
    },
    {
      "cell_type": "code",
      "source": [
        "# crosstab으로 도수분포표 만들기.\n",
        "pd.crosstab(index=df_2['설문응답'],colnames=['응답 수'],columns = ['응답 수'])\n",
        "# columns=df['a'] 범주형 가능, colnames=['응답 수']는 필수아님."
      ],
      "metadata": {
        "id": "cEFQYw4ZXKe6"
      },
      "execution_count": null,
      "outputs": []
    },
    {
      "cell_type": "code",
      "source": [
        "# groupy로 도수분포표 만들기.\n",
        "df_gp = df_2.groupby('설문응답')['설문응답'].count()\n",
        "df_gp"
      ],
      "metadata": {
        "id": "ruimOiwXKwmt"
      },
      "execution_count": null,
      "outputs": []
    },
    {
      "cell_type": "code",
      "source": [
        "pd.DataFrame(index=df_gp.index, data=df_gp.values, columns=['도수'])"
      ],
      "metadata": {
        "id": "54NamDxJLyOb"
      },
      "execution_count": null,
      "outputs": []
    },
    {
      "cell_type": "code",
      "source": [
        "df_3=pd.DataFrame(index=df_gp.index, data=df_gp.values, columns=['도수'])\n",
        "df_3['상대도수'] = df_3['도수']/df_3['도수'].sum()\n",
        "df_3['누적상대도수'] = df_3['상대도수'].cumsum()\n",
        "df_3"
      ],
      "metadata": {
        "id": "oskNuFc3LggU"
      },
      "execution_count": null,
      "outputs": []
    },
    {
      "cell_type": "markdown",
      "source": [
        "# 3장 수치를 통한 연속형 자료의 요약"
      ],
      "metadata": {
        "id": "jI8dDuiGQdLu"
      }
    },
    {
      "cell_type": "code",
      "source": [
        "# 6-9. 중앙값, 사분위수, 사분위범위, 평균, 표준편차, 범위, 상자그림\n",
        "df = pd.DataFrame(data=[239,212,249,227,218,310,281,330,226,233,223,161,195,233,249,284,245,\n",
        "                        174,154,256,196,299,210,301,199,258,205,195,227,244,355,234,195,179,\n",
        "                        357,282,265,286,286,176,195,163,297], columns=['혈중 콜레스테롤 농도'])\n",
        "df.head()"
      ],
      "metadata": {
        "id": "LwtEEIWhQhb1"
      },
      "execution_count": null,
      "outputs": []
    },
    {
      "cell_type": "code",
      "source": [
        "df = df.values\n",
        "print(np.median(df))\n",
        "print(np.percentile(df, 0.25))\n",
        "print(np.percentile(df, 0.5))\n",
        "print(np.percentile(df, 0.75))\n",
        "print(np.mean(df))\n",
        "print(np.std(df))\n",
        "print(np.max(df)-np.min(df))"
      ],
      "metadata": {
        "id": "M6JGJ_jjQhds"
      },
      "execution_count": null,
      "outputs": []
    },
    {
      "cell_type": "code",
      "source": [
        "sns.boxplot(x=df['혈중 콜레스테롤 농도'])\n",
        "plt.title('box plot')\n",
        "plt.show()"
      ],
      "metadata": {
        "id": "BC3d7F4jQh4U"
      },
      "execution_count": null,
      "outputs": []
    },
    {
      "cell_type": "code",
      "source": [
        "sns.histplot(df['혈중 콜레스테롤 농도'], bins=7, kde=True)\n",
        "plt.title('histogram')\n",
        "plt.show()"
      ],
      "metadata": {
        "id": "dnBngIKqQh7X"
      },
      "execution_count": null,
      "outputs": []
    },
    {
      "cell_type": "code",
      "source": [
        "# 6-14.(4) 특정 값 삭제하고 다시 박스플롯 그리기, 왼쪽으로 치우우쳐진 분포를 띈다.\n",
        "idx = df[(df['혈중 콜레스테롤 농도'] == 330)|(df['혈중 콜레스테롤 농도'] == 154)].index\n",
        "df2 = df.drop(idx)\n",
        "\n",
        "sns.histplot(df2['혈중 콜레스테롤 농도'], bins=7, kde=True)\n",
        "plt.title('histogram')\n",
        "plt.show()"
      ],
      "metadata": {
        "id": "3aam5rrRT647"
      },
      "execution_count": null,
      "outputs": []
    },
    {
      "cell_type": "markdown",
      "source": [
        "# 4장. 두 변수 자료의 요약"
      ],
      "metadata": {
        "id": "lBRDCMSdVZj5"
      }
    },
    {
      "cell_type": "code",
      "source": [],
      "metadata": {
        "id": "fpUZzGE9UmE9"
      },
      "execution_count": null,
      "outputs": []
    }
  ]
}