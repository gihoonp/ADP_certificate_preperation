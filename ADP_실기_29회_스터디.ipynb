{
  "nbformat": 4,
  "nbformat_minor": 0,
  "metadata": {
    "colab": {
      "private_outputs": true,
      "provenance": [],
      "gpuType": "V100",
      "toc_visible": true,
      "mount_file_id": "15864s83UnsENn5UMJ1wGb8CXCVpR08aA",
      "authorship_tag": "ABX9TyPusTuKPdP98BxLK9vEaWNy",
      "include_colab_link": true
    },
    "kernelspec": {
      "name": "python3",
      "display_name": "Python 3"
    },
    "language_info": {
      "name": "python"
    },
    "accelerator": "GPU"
  },
  "cells": [
    {
      "cell_type": "markdown",
      "metadata": {
        "id": "view-in-github",
        "colab_type": "text"
      },
      "source": [
        "<a href=\"https://colab.research.google.com/github/gihoonp/ADP_certificate_preperation/blob/main/ADP_%EC%8B%A4%EA%B8%B0_29%ED%9A%8C_%EC%8A%A4%ED%84%B0%EB%94%94.ipynb\" target=\"_parent\"><img src=\"https://colab.research.google.com/assets/colab-badge.svg\" alt=\"Open In Colab\"/></a>"
      ]
    },
    {
      "cell_type": "markdown",
      "source": [
        "# 제 29회 ADP 실기 기출"
      ],
      "metadata": {
        "id": "77myEZv2ijX9"
      }
    },
    {
      "cell_type": "code",
      "source": [
        "!sudo apt-get install -y fonts-nanum\n",
        "!sudo fc-cache -fv\n",
        "!rm ~/.cache/matplotlib -rf"
      ],
      "metadata": {
        "id": "FvO-c73w77_-"
      },
      "execution_count": null,
      "outputs": []
    },
    {
      "cell_type": "markdown",
      "source": [
        "1-1. 계약자고유번호를 기준으로 거주연도 별 여러개의 데이터가 쌓여 있다. 각 계약자고유번호에 대해 가장 최신의 거주연도 행만 남겨라.\n",
        "\n",
        "데이터 설명 : 대구도시공사_빅데이터_영구임대아파트 입주자 퇴거여부 데이터, 고유번호를 가진 계약자와 특정 아파트에 대해 매년 퇴거여부를 기록한 데이터"
      ],
      "metadata": {
        "id": "dE2iy3wQxUT8"
      }
    },
    {
      "cell_type": "code",
      "source": [
        "import pandas as pd\n",
        "# 1.원본데이터 확인, X,Y데이터 정의\n",
        "df =pd.read_csv('https://raw.githubusercontent.com/Datamanim/datarepo/main/adp/29/p1.csv',encoding= 'cp949')\n",
        "df.head()"
      ],
      "metadata": {
        "id": "7U-daTxvxjsC"
      },
      "execution_count": null,
      "outputs": []
    },
    {
      "cell_type": "code",
      "source": [
        "x = df.drop(['퇴거여부'], axis=1)\n",
        "y = df['퇴거여부']"
      ],
      "metadata": {
        "id": "ygFil1skyqoh"
      },
      "execution_count": null,
      "outputs": []
    },
    {
      "cell_type": "code",
      "source": [
        "df.info() # 결측치 있는 변수도 보이고,  int, object 변수가 섞여 있지만 실제 타입에 대해서는 아직 판단하기 이르다."
      ],
      "metadata": {
        "id": "aypbisB-y0Cf"
      },
      "execution_count": null,
      "outputs": []
    },
    {
      "cell_type": "code",
      "source": [
        "df['계약자고유번호'].value_counts(), len(df['계약자고유번호'].value_counts().index)\n",
        "# 86903개의 데이터셋 중 10348개의 계약자고유번호가 있다."
      ],
      "metadata": {
        "id": "KJsfm2tYzig4"
      },
      "execution_count": null,
      "outputs": []
    },
    {
      "cell_type": "code",
      "source": [
        "#각 계약자고유번호에 대해 가장 최신의 거주연도 행만 남기기.\n",
        "df_recent = df.loc[df.groupby('계약자고유번호', as_index = False)['거주연도'].idxmax()['거주연도']] # idxmax(): 가장 큰 값의 index값을 가져온다.\n",
        "df_recent.head()"
      ],
      "metadata": {
        "id": "yKv0im97y0KW"
      },
      "execution_count": null,
      "outputs": []
    },
    {
      "cell_type": "markdown",
      "source": [
        "1-2. EDA 및 결측치 처리 (시각화 포함)"
      ],
      "metadata": {
        "id": "TDOKryF0xUWp"
      }
    },
    {
      "cell_type": "code",
      "source": [
        "# 폰트 설정\n",
        "import matplotlib.pyplot as plt # 맷플롯립 import 하기\n",
        "plt.rc('font', family='NanumBarunGothic')"
      ],
      "metadata": {
        "id": "XfeAgH6-CUFL"
      },
      "execution_count": null,
      "outputs": []
    },
    {
      "cell_type": "code",
      "source": [
        "# x 변수 분포 시각화 (연속형:히스토그램/박스플롯, 범주형:파이차트)\n",
        "df2 = df_recent\n",
        "int_columns = df2.select_dtypes(include='number').columns\n",
        "n = len(int_columns)\n",
        "\n",
        "# 연속형 히스토그램\n",
        "import seaborn as sns\n",
        "import pandas as pd\n",
        "import numpy as np\n",
        "rows = n // 2 + n % 2  # 마지막 줄은 변수 개수가 홀수일 때만 사용\n",
        "cols = 2\n",
        "# 히스토그램을 행x열 그리드로 나누기\n",
        "fig, axes = plt.subplots(nrows=rows, ncols=cols, figsize=(12, 2 * rows))\n",
        "# 변수 인덱스\n",
        "var_index = 0\n",
        "# 히스토그램 그리기\n",
        "for i in range(rows):\n",
        "    for j in range(cols):\n",
        "        if var_index < len(int_columns):\n",
        "            # 마지막 변수일 경우 예외 처리\n",
        "            if var_index == n - 1 and n % 2 == 1:  # 변수 개수가 홀수인 경우\n",
        "                sns.histplot(df2[int_columns].iloc[:, var_index], bins=20, kde=True, ax=axes[i, 0])\n",
        "                axes[i, 0].set_title(int_columns[var_index])\n",
        "                axes[i, 1].axis('off')  # 두 번째 열은 비워두기\n",
        "            else:\n",
        "                sns.histplot(df2[int_columns].iloc[:, var_index], bins=20, kde=True, ax=axes[i, j])\n",
        "                axes[i, j].set_title(int_columns[var_index])\n",
        "        var_index += 1\n",
        "# 그래프 간 간격 조절\n",
        "plt.tight_layout()\n",
        "# 그래프 표시\n",
        "plt.show()"
      ],
      "metadata": {
        "id": "IrTPAQnwyPXm"
      },
      "execution_count": null,
      "outputs": []
    },
    {
      "cell_type": "code",
      "source": [
        "# 박스플롯\n",
        "fig, axes = plt.subplots(nrows=rows, ncols=cols, figsize=(12, 2 * rows))\n",
        "# 변수 인덱스\n",
        "var_index = 0\n",
        "# 박스플롯 그리기\n",
        "for i in range(rows):\n",
        "    for j in range(cols):\n",
        "        # Check if var_index is within the bounds\n",
        "        if var_index < len(int_columns):\n",
        "            if var_index == n - 1 and n % 2 == 1: # 변수 개수가 홀수인 경우\n",
        "                sns.boxplot(x=df2[int_columns[var_index]], ax=axes[i, 0])\n",
        "                axes[i, 0].set_title(int_columns[var_index])\n",
        "                axes[i, 1].axis('off')\n",
        "            else:\n",
        "                sns.boxplot(x=df2[int_columns[var_index]], ax=axes[i, j])\n",
        "                axes[i, j].set_title(int_columns[var_index])\n",
        "        var_index += 1\n",
        "\n",
        "# 그래프 간 간격 조절 후 그래프 표시\n",
        "plt.tight_layout()\n",
        "plt.show()"
      ],
      "metadata": {
        "id": "rT6hgS5vAP-m"
      },
      "execution_count": null,
      "outputs": []
    },
    {
      "cell_type": "code",
      "source": [
        "# 범주형 파이차트.\n",
        "obj_columns = df2.select_dtypes(include='object').columns\n",
        "n = len(obj_columns)\n",
        "rows = n // 2 + n % 2  # 마지막 줄은 변수 개수가 홀수일 때만 사용\n",
        "cols = 2\n",
        "\n",
        "# 파이차트를 행x열 그리드로 나누기\n",
        "fig, axes = plt.subplots(nrows=rows, ncols=cols, figsize=(12, 2 * rows))\n",
        "# 변수 인덱스\n",
        "variable_index = 0\n",
        "# 파이차트 그리기\n",
        "for i in range(rows):\n",
        "    for j in range(cols):\n",
        "        if variable_index < len(obj_columns):\n",
        "            if variable_index == n - 1 and n % 2 == 1:\n",
        "                sizes = df2[obj_columns].iloc[:, variable_index].value_counts(dropna=False) # NaN도 포함\n",
        "                axes.flatten()[i * cols].pie(sizes.values, labels=sizes.index, autopct='%1.1f%%', startangle=90)\n",
        "                axes.flatten()[i * cols].set_title(obj_columns[variable_index])\n",
        "                axes.flatten()[i * cols+1].axis('off')\n",
        "            else:\n",
        "                sizes = df2[obj_columns].iloc[:, variable_index].value_counts(dropna=False)\n",
        "                axes.flatten()[i * cols + j].pie(sizes.values, labels=sizes.index, autopct='%1.1f%%', startangle=90)\n",
        "                axes.flatten()[i * cols + j].set_title(obj_columns[variable_index])\n",
        "        variable_index += 1\n",
        "\n",
        "# 그래프 간 간격 조절\n",
        "plt.tight_layout()\n",
        "# 그래프 표시\n",
        "plt.show()"
      ],
      "metadata": {
        "id": "YChTCCMDAjxk"
      },
      "execution_count": null,
      "outputs": []
    },
    {
      "cell_type": "code",
      "source": [
        "# 결측치 확인 및 처리\n",
        "df2.isin([np.nan, \"\", None, np.inf, pd.isna]).sum()"
      ],
      "metadata": {
        "id": "wlJqccQCBWqh"
      },
      "execution_count": null,
      "outputs": []
    },
    {
      "cell_type": "code",
      "source": [
        "df2['퇴거여부'].value_counts()"
      ],
      "metadata": {
        "id": "DZ68N50dsErl"
      },
      "execution_count": null,
      "outputs": []
    },
    {
      "cell_type": "code",
      "source": [
        "df2.groupby('퇴거여부')['퇴거연도'].count().reset_index()"
      ],
      "metadata": {
        "id": "MDcKtZVRrdc5"
      },
      "execution_count": null,
      "outputs": []
    },
    {
      "cell_type": "code",
      "source": [
        "# '퇴거연도' 변수는 결측치가 너무 많고, '퇴거여부'가 '퇴거'인 경우만 '퇴거연도' 데이터가 있는 것으로 파악되어 '퇴거여부'와 '입주연도','거주개월' 등 변수들로 '퇴거연도' 정보를 유추할 수 있다고 판단하여 '퇴거연도' 열을 삭제한다."
      ],
      "metadata": {
        "id": "I-DKNL3Or0cG"
      },
      "execution_count": null,
      "outputs": []
    },
    {
      "cell_type": "code",
      "source": [
        "# 범주형 변수인 계약구분의 경우, 가장 빈번한 범주로 대체한다.\n",
        "# 아파트 평점 변수는 결측치를 평균으로 대체해준다.\n",
        "\n",
        "df2['계약구분'] = df2['계약구분'].fillna(df2['계약구분'].value_counts().index[0])\n",
        "df2['아파트 평점'] = df2['아파트 평점'].fillna(df2['아파트 평점'].mean())\n",
        "df2 = df2.drop(['퇴거연도'],axis=1)"
      ],
      "metadata": {
        "id": "DNpG1SRgBjDo"
      },
      "execution_count": null,
      "outputs": []
    },
    {
      "cell_type": "markdown",
      "source": [
        "1-3. 이상치 처리"
      ],
      "metadata": {
        "id": "Y52BwMQDxUY_"
      }
    },
    {
      "cell_type": "code",
      "source": [
        "# 먼저, 학습에 무관하다고 판단되는 '순번','아파트 이름' 변수 제거.\n",
        "df3 = df2.drop(['순번','아파트 이름','계약자고유번호','계약서고유번호'],axis=1)\n",
        "df3.head()"
      ],
      "metadata": {
        "id": "LenQt_6TyQb0"
      },
      "execution_count": null,
      "outputs": []
    },
    {
      "cell_type": "code",
      "source": [
        "# 사분위수 기준으로 Q1 - 3.0*IQR과 Q3 + 3.0*IQR 사이에 분포하지 않는 데이터를 이상치로 정의 후 제거한다.\n",
        "\n",
        "def remove_outliers_iqr(data, columns):\n",
        "    outlier_indices = []\n",
        "    for column in columns:\n",
        "        Q1 = data[column].quantile(0.25)\n",
        "        Q3 = data[column].quantile(0.75)\n",
        "        IQR = Q3 - Q1\n",
        "        lower_bound = Q1 - 3.0 * IQR\n",
        "        upper_bound = Q3 + 3.0 * IQR\n",
        "        # 이상치 인덱스 취합\n",
        "        outliers = data[(data[column] < lower_bound) | (data[column] > upper_bound)]\n",
        "        outlier_indices.extend(outliers.index)\n",
        "    # 중복된 인덱스 제거\n",
        "    unique_outlier_indices = list(set(outlier_indices))\n",
        "    # 이상치 제거\n",
        "    df_outliers_removed = data.drop(unique_outlier_indices)\n",
        "    return df_outliers_removed\n",
        "\n",
        "columns_to_remove_outliers = df3.select_dtypes(include='number').columns\n",
        "df_no_outliers = remove_outliers_iqr(df3, columns_to_remove_outliers)\n",
        "df_no_outliers"
      ],
      "metadata": {
        "id": "6mGJjB0SkgSh"
      },
      "execution_count": null,
      "outputs": []
    },
    {
      "cell_type": "code",
      "source": [
        "df_no_outliers.describe() # 또한, 나이, 대표나이가 100살 이상인 데이터가 보인다."
      ],
      "metadata": {
        "id": "epInPLnQlZ87"
      },
      "execution_count": null,
      "outputs": []
    },
    {
      "cell_type": "code",
      "source": [
        "# 나이, 대표나이가 100살 이상인 데이터는 각각 평균 나이로 처리해준다.\n",
        "df_no_outliers['나이'] = df_no_outliers['나이'].apply(lambda x : x if x<100 else df_no_outliers['나이'].mean())\n",
        "df_no_outliers['대표나이'] = df_no_outliers['대표나이'].apply(lambda x : x if x<100 else df_no_outliers['대표나이'].mean())\n",
        "df_no_outliers.describe()"
      ],
      "metadata": {
        "id": "SNFaeEdIlsCJ"
      },
      "execution_count": null,
      "outputs": []
    },
    {
      "cell_type": "markdown",
      "source": [
        "2-1. 재계약 횟수의 중앙값을 기준으로 중앙값보다 크거나 같으면 ‘높음’, 작으면 ‘낮음’ 으로 재계약 횟수 이분 변수를 구성하시오"
      ],
      "metadata": {
        "id": "aeVLSscKxUbc"
      }
    },
    {
      "cell_type": "code",
      "source": [
        "df4 = df_no_outliers.copy()\n",
        "md = np.median(df_no_outliers['재계약횟수']) # 중앙값 : 6\n",
        "df4['재계약횟수이분'] = df4['재계약횟수'].apply(lambda x : '높음' if x >= 6 else '낮음')\n",
        "df4.head()"
      ],
      "metadata": {
        "id": "Q6dPMAVQyQ7Y"
      },
      "execution_count": null,
      "outputs": []
    },
    {
      "cell_type": "markdown",
      "source": [
        "2-2. 차원축소의 필요성을 논하고, 필요에 따라 차원을 축소하고 불필요하다면 그 근거를 논하시오."
      ],
      "metadata": {
        "id": "MXvHHwwfxUeK"
      }
    },
    {
      "cell_type": "code",
      "source": [
        "# 컴퓨팅 자원 등 시간과 비용 감소시키기 위해 차원축소를 시행하나, 현 차원에서 퇴거여부와 무관하다고 판단되는 변수들('순번','아파트 이름','아파트 ID', '호실고유번호','계약자고유번호','계약서고유번호')과 결측치가 다소 존재하는 변수들을 제거하였으므로, 차원축소 필요없다고 판단하였다."
      ],
      "metadata": {
        "id": "q4-FsO2cySWn"
      },
      "execution_count": null,
      "outputs": []
    },
    {
      "cell_type": "markdown",
      "source": [
        "3-1. 재계약 횟수 이분변수를 기준으로 세그먼트를 구분하고 각 세그먼트의 특징을 분석하시오."
      ],
      "metadata": {
        "id": "9T92-vhMxUg7"
      }
    },
    {
      "cell_type": "code",
      "source": [
        "df5 = df4.drop(['재계약횟수'], axis=1)\n",
        "df5.groupby('재계약횟수이분')[df5.select_dtypes(include='number').columns].agg([np.mean])"
      ],
      "metadata": {
        "id": "rsbaNhVJyS0p"
      },
      "execution_count": null,
      "outputs": []
    },
    {
      "cell_type": "code",
      "source": [
        "# 재약횟수이분 변수가 '높음'인 경우, 상대적으로 '거주개월'이 길고, '입주연도'가 오래되었으며, '월세'와 '보증금'은 높은 것으로 보인다. 나이도 조금 높은 것으로 보인다."
      ],
      "metadata": {
        "id": "Z-p2XObeGHuY"
      },
      "execution_count": null,
      "outputs": []
    },
    {
      "cell_type": "code",
      "source": [
        "for i in df5.select_dtypes(include='object').columns[:-1]:\n",
        "    print(df5.groupby('재계약횟수이분')[i].value_counts())"
      ],
      "metadata": {
        "id": "-aQ7z4x0E2JX"
      },
      "execution_count": null,
      "outputs": []
    },
    {
      "cell_type": "code",
      "source": [
        "# 재약횟수이분 변수가 '높음'인 경우, 상대적으로 '계약구분'이 '유효'이고 '퇴거여부'는 '미퇴거'인 경향이 있었다."
      ],
      "metadata": {
        "id": "mYO06_kJFzcB"
      },
      "execution_count": null,
      "outputs": []
    },
    {
      "cell_type": "markdown",
      "source": [
        "3-2. 재계약횟수 변수를 종속변수로 하는 회귀 분석을 두 가지 이상의 방법론을 통해 수행하고 최종 모델을 결정하시오. 재계약횟수 이분변수를 종속변수로 하는 분류 분석을 두가지 이상의 방법론을 통해 수행하고 최종 모델을 결정하시오."
      ],
      "metadata": {
        "id": "q-YChGN8xUjh"
      }
    },
    {
      "cell_type": "code",
      "source": [
        "# 학습 전 원핫인코딩\n",
        "df3_dummy = df3.copy()\n",
        "df3_dummy = pd.get_dummies(df3, drop_first=True)\n",
        "df3_dummy.head()"
      ],
      "metadata": {
        "id": "h9LmyfhoIk5D"
      },
      "execution_count": null,
      "outputs": []
    },
    {
      "cell_type": "code",
      "source": [
        "df5_dummy = df5.copy()\n",
        "df5_dummy = pd.get_dummies(df5_dummy, drop_first=True)\n",
        "df5_dummy.head()"
      ],
      "metadata": {
        "id": "rWkIydVMJfsf"
      },
      "execution_count": null,
      "outputs": []
    },
    {
      "cell_type": "code",
      "source": [
        "# 재계약횟수 변수를 종속변수로 하는 데이터셋 : df3\n",
        "# 재계약횟수 이분변수를 종속변수로 하는 데이터셋 : df5\n",
        "\n",
        "# 재계약횟수 변수를 종속변수로 하는 회귀 분석 : 회귀분석, Ridge 회귀\n",
        "from sklearn.linear_model import LinearRegression, Ridge, Lasso\n",
        "from sklearn.metrics import f1_score, accuracy_score, r2_score, mean_squared_error\n",
        "from sklearn.model_selection import train_test_split\n",
        "from sklearn.compose import make_column_transformer\n",
        "from sklearn.preprocessing import StandardScaler\n",
        "\n",
        "x3 = df3_dummy.drop(['재계약횟수'], axis=1)\n",
        "y3 = df3_dummy['재계약횟수']\n",
        "\n",
        "x_train, x_test, y_train, y_test = train_test_split(x3, y3, random_state=0)\n",
        "\n",
        "ct = make_column_transformer((StandardScaler(), ['거주개월', '아파트 ID', '아파트 평점', '호실고유번호', '층', '평형대', '입주연도', '거주연도','월세(원)', '보증금(원)', '대표나이', '나이', '거주자 수']),remainder='passthrough') # 수치형 데이터만 scaling\n",
        "ct.fit(x_train)\n",
        "x_train_sc = ct.transform(x_train)\n",
        "x_test_sc = ct.transform(x_test)\n",
        "\n",
        "ridge = Ridge().fit(x_train_sc, y_train)\n",
        "y_pred = ridge.predict(x_test_sc)\n",
        "print('R2:',r2_score(y_pred, y_test))\n",
        "print('RMSE:',np.sqrt(mean_squared_error(y_pred, y_test)))"
      ],
      "metadata": {
        "id": "ShJc6noLyTJu"
      },
      "execution_count": null,
      "outputs": []
    },
    {
      "cell_type": "code",
      "source": [
        "lr = LinearRegression().fit(x_train_sc, y_train)\n",
        "y_pred = lr.predict(x_test_sc)\n",
        "print('R2:',r2_score(y_pred, y_test))\n",
        "print('RMSE:',np.sqrt(mean_squared_error(y_pred, y_test))) # 모델의 데이터 설명력인 R2가 더 높은 Ridge 모델을 최종 선택하였다."
      ],
      "metadata": {
        "id": "-IsfXQ7wKbVb"
      },
      "execution_count": null,
      "outputs": []
    },
    {
      "cell_type": "code",
      "source": [
        "# 재계약횟수 이분변수를 종속변수로 하는 분류 모델 : XGBoost, 의사결정트리\n",
        "\n",
        "x5 = df5_dummy.drop(['재계약횟수이분_높음'], axis=1)\n",
        "y5 = df5_dummy['재계약횟수이분_높음']\n",
        "\n",
        "from sklearn.tree import DecisionTreeClassifier\n",
        "from xgboost import plot_importance, XGBClassifier\n",
        "from sklearn.model_selection import train_test_split\n",
        "\n",
        "x_train, x_test, y_train, y_test = train_test_split(x5, y5, random_state=0)\n",
        "ct = make_column_transformer((StandardScaler(), ['거주개월', '아파트 ID', '아파트 평점', '호실고유번호', '층', '평형대', '입주연도', '거주연도','월세(원)', '보증금(원)', '대표나이', '나이', '거주자 수']),remainder='passthrough') # 수치형 데이터만 scaling\n",
        "ct.fit(x_train)\n",
        "x_train_sc = ct.transform(x_train)\n",
        "x_test_sc = ct.transform(x_test)\n",
        "\n",
        "dc = DecisionTreeClassifier()\n",
        "dc.fit(x_train_sc, y_train)\n",
        "y_pred = dc.predict(x_test_sc)\n",
        "print('accuracy_score:', accuracy_score(y_pred, y_test))\n",
        "print('f1_score:', f1_score(y_pred, y_test))"
      ],
      "metadata": {
        "id": "26FHmjrdKbYI"
      },
      "execution_count": null,
      "outputs": []
    },
    {
      "cell_type": "code",
      "source": [
        "xg = XGBClassifier()\n",
        "xg.fit(x_train_sc, y_train)\n",
        "y_pred = xg.predict(x_test_sc)\n",
        "print('accuracy_score:', accuracy_score(y_pred, y_test))\n",
        "print('f1_score:', f1_score(y_pred, y_test)) # 정확도, f1 모두 높은 XGBClassifier 모델을 최종선택하였다."
      ],
      "metadata": {
        "id": "jT9DcPbZKbao"
      },
      "execution_count": null,
      "outputs": []
    },
    {
      "cell_type": "markdown",
      "source": [
        "3-3. 최종 채택한 모델에서 각각 유의하게 작용하는 변수를 확인 하고 설명하시오"
      ],
      "metadata": {
        "id": "DWU0qu1zxUmR"
      }
    },
    {
      "cell_type": "code",
      "source": [
        "# Ridge 회귀 모델\n",
        "ridge_df = pd.DataFrame(columns=['var','coef'])\n",
        "ridge_df['var'] = x3.columns\n",
        "ridge_df['coef'] = ridge.coef_\n",
        "ridge_df['abs_coef'] = ridge_df['coef'].apply(lambda x: np.abs(x))\n",
        "ridge_df.head()"
      ],
      "metadata": {
        "id": "Ti2hoMqNyTdv"
      },
      "execution_count": null,
      "outputs": []
    },
    {
      "cell_type": "code",
      "source": [
        "ridge_df.sort_values(by='abs_coef').plot(x='var', y='abs_coef', kind='barh', figsize=(10, 6))\n",
        "plt.show()"
      ],
      "metadata": {
        "id": "pCSAKAZWOMOk"
      },
      "execution_count": null,
      "outputs": []
    },
    {
      "cell_type": "code",
      "source": [
        "ridge_df.sort_values(by='coef').plot(x='var', y='coef', kind='barh', figsize=(10, 6))\n",
        "plt.show()"
      ],
      "metadata": {
        "id": "1fKfSXoO4Up8"
      },
      "execution_count": null,
      "outputs": []
    },
    {
      "cell_type": "code",
      "source": [
        "# XGBClassifier 모델.\n",
        "fi = xg.feature_importances_\n",
        "fn = x5.columns\n",
        "xgb_importance = pd.DataFrame({'fi':fi, 'fn':fn}).sort_values(by='fi')\n",
        "plt.barh(xgb_importance['fn'], xgb_importance['fi'])\n",
        "plt.show()"
      ],
      "metadata": {
        "id": "v32zw-I7NGv8"
      },
      "execution_count": null,
      "outputs": []
    },
    {
      "cell_type": "markdown",
      "source": [
        "3-4.해당 데이터 분석결과로 얻을 수 있는 점 제시\n",
        "\n"
      ],
      "metadata": {
        "id": "81mMJWcwx5eK"
      }
    },
    {
      "cell_type": "code",
      "source": [
        "# 재계약 횟수 및 유무는 특히 '거주개월','보증금','월세' 변수에 영향을 많이 받는 것으로 분석된다.\n",
        "# 1. 거주개월이 길수록 재계약 횟수가 증가하는 경향을 보인다. 하지만 재계약을 함으로써 거주개월이 늘어나는 것이기 때문에 역인과성으로 해석될 여지가 있다.\n",
        "# 2. 보증금이 많고, 월세가 적을수록 재계약 횟수가 증가하는 경향이다. 거주자는 월세가 비싼 것에 민감하며, 보증금으로 계약하는 것을 더 선호하는 것으로 보인다."
      ],
      "metadata": {
        "id": "FPHySB7_Dp40"
      },
      "execution_count": null,
      "outputs": []
    },
    {
      "cell_type": "markdown",
      "source": [
        "4-1. 각 회차별로 1번 타자의 출루 (1,2,3루타와 사사구(볼넷, 몸에맞는공))가 있는 경우에 대해 득점이 발생 했는지 확인하고자 한다. 이를 위한 전처리를 수행하라. (단, 첫 번째 혹은 두 번째 타자가 홈런을 친 경우 해당 회차 데이터는 제외한다.)\n",
        "\n",
        "데이터 출처 : https://www.kaggle.com/datasets/pschale/mlb-pitch-data-20152018 데이터를 후처리\n",
        "\n",
        "데이터 링크 : https://raw.githubusercontent.com/Datamanim/datarepo/main/adp/29/p2_.csv\n",
        "\n",
        "데이터 설명 :\n",
        "\n",
        "A 야구구단의 시합 결과중 일부를 나타낸다.\n",
        "각 행은 하나의 경기를 의미(game_id)하며 9회차(= 9이닝) 동안 1번타자, 2번타자의 출루 정보를 의미한다.\n",
        "각 컬럼에 대한 설명은 아래 이미지와 같으며, value값의 index는 이미지의 ‘수치 의미’ 열을 통해 확인 할 수 있다."
      ],
      "metadata": {
        "id": "4oRzYzrox5gz"
      }
    },
    {
      "cell_type": "code",
      "source": [
        "import pandas as pd\n",
        "# 1.원본데이터 확인, X,Y데이터 정의\n",
        "df =pd.read_csv('https://raw.githubusercontent.com/Datamanim/datarepo/main/adp/29/p2_.csv',encoding= 'cp949')\n",
        "df.head()"
      ],
      "metadata": {
        "id": "35OMUWKIyUMd"
      },
      "execution_count": null,
      "outputs": []
    },
    {
      "cell_type": "code",
      "source": [
        "df = df.drop(['game_id'],axis=1) # game_id 행 삭제."
      ],
      "metadata": {
        "id": "eDaZfhz1UFxq"
      },
      "execution_count": null,
      "outputs": []
    },
    {
      "cell_type": "code",
      "source": [
        "# '회차','1번타자','2번타자','득점' 열로 이루어진 데이터프레임 생성\n",
        "new_df = pd.DataFrame(columns=['회차','1번타자','2번타자','득점'])\n",
        "n = []\n",
        "d1 = []\n",
        "d2 = []\n",
        "score = []\n",
        "for i in range(1,10):\n",
        "    n += [i]*200\n",
        "    d1 += list(df['a{}_1'.format(i)])\n",
        "    d2 += list(df['a{}_2'.format(i)])\n",
        "    score += list(df['b{}'.format(i)])\n",
        "\n",
        "new_df['회차'] = n\n",
        "new_df['1번타자'] = d1\n",
        "new_df['2번타자'] = d2\n",
        "new_df['득점'] = score\n",
        "new_df['득점여부'] = new_df['득점'].apply(lambda x : 0 if x ==0 else 1)\n",
        "new_df.head()"
      ],
      "metadata": {
        "id": "866LdkVPT5-X"
      },
      "execution_count": null,
      "outputs": []
    },
    {
      "cell_type": "code",
      "source": [
        "new_df.info() # 1번타자 데이터에 object 있는 것으로 보아 결측치, 혹은 문자 데이터 확인 필요."
      ],
      "metadata": {
        "id": "ue2ps4BWWBLL"
      },
      "execution_count": null,
      "outputs": []
    },
    {
      "cell_type": "code",
      "source": [
        "new_df.isna().sum() # 결측치는 없는 것으로 보임"
      ],
      "metadata": {
        "id": "nBIp0zqUWNR7"
      },
      "execution_count": null,
      "outputs": []
    },
    {
      "cell_type": "code",
      "source": [
        "new_df['1번타자'].value_counts(), new_df['2번타자'].value_counts() # 위에서 결측치는 없었지만,  데' ', '\"',':','&'이터 때문에 object인 것으로 보인다."
      ],
      "metadata": {
        "id": "yca_KG-nV9CK"
      },
      "execution_count": null,
      "outputs": []
    },
    {
      "cell_type": "code",
      "source": [
        "error_chr = [' ', '\"', ' :', '&']\n",
        "filtered_df = new_df[~new_df['1번타자'].isin(error_chr)] # ' ', '\"',':','&' 데이터 삭제 처리\n",
        "filtered_df.info()"
      ],
      "metadata": {
        "id": "efBzs2LOWra7"
      },
      "execution_count": null,
      "outputs": []
    },
    {
      "cell_type": "code",
      "source": [
        "filtered_df['1번타자'] = filtered_df['1번타자'].astype(int) # 숫자 1, 공백 포함된 1 등등을 모두 숫자1로 타입변환"
      ],
      "metadata": {
        "id": "07BO7W23YFPf"
      },
      "execution_count": null,
      "outputs": []
    },
    {
      "cell_type": "code",
      "source": [
        "filtered_df['1번타자'].info() # 1번타자 변수 타입 int형인 것 확인함"
      ],
      "metadata": {
        "id": "dQSrfqbeYpDh"
      },
      "execution_count": null,
      "outputs": []
    },
    {
      "cell_type": "code",
      "source": [
        "# 1번타자, 2번타자가 홈런(8)일 경우, 행 삭제\n",
        "filtered_df2 = filtered_df.drop(filtered_df.loc[(filtered_df['1번타자']==8)|(filtered_df['2번타자']==8)].index)"
      ],
      "metadata": {
        "id": "ZYC2FRMRV4DF"
      },
      "execution_count": null,
      "outputs": []
    },
    {
      "cell_type": "code",
      "source": [
        "# 필요한 열인 1,2번타자, 득점여부 변수 제외하고 모두 삭제\n",
        "final_df = filtered_df2.drop(['득점'],axis=1)\n",
        "final_df['1번타자'] = final_df['1번타자'].astype('category')\n",
        "final_df['2번타자'] = final_df['2번타자'].astype('category')\n",
        "final_df.head() # 전처리 완료한 데이터프레임 : final_df"
      ],
      "metadata": {
        "id": "OENTxU1uZXPx"
      },
      "execution_count": null,
      "outputs": []
    },
    {
      "cell_type": "markdown",
      "source": [
        "4-2. 4-1 데이터에 대해 Logistic Regression을 적용하고 2번타자의 희생번트 여부에 대한 회귀 계수 검정을 하라"
      ],
      "metadata": {
        "id": "K_BxdyuOx5jQ"
      }
    },
    {
      "cell_type": "code",
      "source": [
        "'''\n",
        "from sklearn.model_selection import train_test_split\n",
        "from sklearn.linear_model import LogisticRegression\n",
        "from sklearn.metrics import f1_score, accuracy_score\n",
        "\n",
        "final_df_dummy = pd.get_dummies(final_df, drop_first=True)\n",
        "x = final_df_dummy.drop(['득점여부'], axis=1)\n",
        "y = final_df_dummy['득점여부']\n",
        "\n",
        "x_train, x_test, y_train, y_test = train_test_split(x,y,test_size=0.3, random_state=0)\n",
        "lr = LogisticRegression(C=0.01, max_iter=1000)\n",
        "lr.fit(x_train,y_train)\n",
        "y_pred = lr.predict(x_test)\n",
        "print('accuracy_score:', accuracy_score(y_pred, y_test))\n",
        "print('f1_score:', f1_score(y_pred, y_test))\n",
        "'''"
      ],
      "metadata": {
        "id": "pvInAywayUib"
      },
      "execution_count": null,
      "outputs": []
    },
    {
      "cell_type": "code",
      "source": [
        "# 2번타자의 희생번트 여부에 대한 회귀 계수 검정 -> 회차 변수가 없으면, statsmodels 적용시, singular matrix 문제 발생.\n",
        "import statsmodels.api as sm\n",
        "from scipy.stats import chi2\n",
        "\n",
        "# nodup_df = final_df.drop_duplicates()\n",
        "\n",
        "final_df_dummy = pd.get_dummies(final_df, drop_first=True)\n",
        "x = final_df_dummy.drop(['득점여부'], axis=1)\n",
        "y = final_df_dummy['득점여부']\n",
        "x_ = sm.add_constant(x)\n",
        "model = sm.Logit(y,x_)\n",
        "fitted = model.fit()\n",
        "fitted.summary()"
      ],
      "metadata": {
        "id": "ysg4J8ESjeTl"
      },
      "execution_count": null,
      "outputs": []
    },
    {
      "cell_type": "code",
      "source": [
        "# 2번타자의 희생번트 여부를 '2번타자_2' 변수라고 할 때, z통계량 2.971, 유의확률 0.003으로 유의수준 0.05에서 '2번타자_2'의 회귀 계수는 유의하다고 할 수 있다."
      ],
      "metadata": {
        "id": "M_bJDt6H-XFj"
      },
      "execution_count": null,
      "outputs": []
    },
    {
      "cell_type": "markdown",
      "source": [
        "4-3. SMOTE (random_state =0 지정)를 적용하여 data imbalance를 해결하라"
      ],
      "metadata": {
        "id": "kAYRf19Vx5lv"
      }
    },
    {
      "cell_type": "code",
      "source": [
        "from imblearn.over_sampling import SMOTE\n",
        "print(y.value_counts())\n",
        "os = SMOTE(random_state=0, k_neighbors=3)\n",
        "x_os, y_os = os.fit_resample(x,y)\n",
        "print(y_os.value_counts())"
      ],
      "metadata": {
        "id": "7PjS1m_tyU1G"
      },
      "execution_count": null,
      "outputs": []
    },
    {
      "cell_type": "markdown",
      "source": [
        "4-4. 4-3 구성 데이터에 Logistic Regression을 적용하고 결과를 분석하라"
      ],
      "metadata": {
        "id": "XQXHlMe8x5no"
      }
    },
    {
      "cell_type": "code",
      "source": [
        "'''\n",
        "from sklearn.model_selection import train_test_split\n",
        "from sklearn.linear_model import LogisticRegression\n",
        "from sklearn.metrics import f1_score, accuracy_score\n",
        "\n",
        "x_train, x_test, y_train, y_test = train_test_split(x_os,y_os,test_size=0.3, random_state=0)\n",
        "lr_os = LogisticRegression(C=0.01, max_iter=1000)\n",
        "lr_os.fit(x_train,y_train)\n",
        "\n",
        "y_pred = lr.predict(x_test)\n",
        "print('accuracy_score:', accuracy_score(y_pred, y_test))\n",
        "print('f1_score:', f1_score(y_pred, y_test))\n",
        "'''"
      ],
      "metadata": {
        "id": "cvxdLzNryVDE"
      },
      "execution_count": null,
      "outputs": []
    },
    {
      "cell_type": "code",
      "source": [
        "import statsmodels.api as sm\n",
        "from scipy.stats import chi2\n",
        "x__os = sm.add_constant(x_os)\n",
        "model_os = sm.Logit(y_os,x__os)\n",
        "fitted_os = model_os.fit()\n",
        "fitted_os.summary()"
      ],
      "metadata": {
        "id": "T-0IqG21ilDq"
      },
      "execution_count": null,
      "outputs": []
    },
    {
      "cell_type": "code",
      "source": [
        "bar_df = pd.DataFrame({'importance':fitted_os.params.values[1:], 'variable':x.columns})\n",
        "bar_df.sort_values(by='importance').plot(x='variable', y='importance', kind='barh')\n",
        "plt.show() # 로지스틱 회귀분석 모델의 회귀계수 크기는 해당 변수가 종속변수(득점)에 영향을 주는 크기로 해석할 수 있다. 즉, 회귀계수로 출루의 종류에 따라 득점에 주는 영향력을 파악할 수 있다."
      ],
      "metadata": {
        "id": "_tJNmEhOocXB"
      },
      "execution_count": null,
      "outputs": []
    },
    {
      "cell_type": "code",
      "source": [
        "'''\n",
        "bar_df = pd.DataFrame({'importance':lr_os.coef_.ravel(), 'variable':x.columns})\n",
        "bar_df.sort_values(by='importance').plot(x='variable', y='importance', kind='barh')\n",
        "plt.show() # 로지스틱 회귀분석 모델의 회귀계수로 보아,출루의 종류에 따라 득점에 주는 영향력을 파악할 수 있다.\n",
        "'''"
      ],
      "metadata": {
        "id": "YhvLxzaLb7G6"
      },
      "execution_count": null,
      "outputs": []
    },
    {
      "cell_type": "markdown",
      "source": [
        "문제 5)\n",
        "제품 A의 불량률은 0.03이다. 25개의 제품을 뽑았을 때 3개가 불량일 확률을 구하시오. (소수점 다섯 째 자리에서 반올림)"
      ],
      "metadata": {
        "id": "kT5Pgo97iPKO"
      }
    },
    {
      "cell_type": "code",
      "source": [
        "# p(불량)=0.03이고, 25개 중 3개가 불량일 확률은 25C3*p^3*(1-p)^22 이다.\n",
        "import numpy as np\n",
        "from numpy import math\n",
        "fac = math.factorial # factorial 연산\n",
        "def combi(a,b): #combination 함수 정의\n",
        "    result = fac(a)/fac(b)/fac(a-b)\n",
        "    return result\n",
        "\n",
        "answer = np.round(combi(25,3)*(0.03**3)*((1-0.03)**22),5)\n",
        "answer"
      ],
      "metadata": {
        "id": "Sfpk9e1sim7k"
      },
      "execution_count": null,
      "outputs": []
    },
    {
      "cell_type": "markdown",
      "source": [
        "문제 6)\n",
        "C사 생산 제품 1000개 중 양품이 600개, D사 생산 제품 500개 중 양품이 200개 이다. 두 회사의 양품률에 차이가 있는지 검정하여라."
      ],
      "metadata": {
        "id": "6BRRUn86iVu5"
      }
    },
    {
      "cell_type": "code",
      "source": [
        "# 독립표본 모비율 차이의 가설검정. 양측검정. 유의수준 0.05\n",
        "# H0 : C사 생산 제품의 양품률과 D사 생산 제품의 양품률에는 차이가 없다.\n",
        "# H1 : C사 생산 제품의 양품률과 D사 생산 제품의 양품률에는 차이가 있다.\n",
        "\n",
        "from scipy.stats import norm\n",
        "n_c = 1000\n",
        "n_d = 500\n",
        "p_c = 600/1000\n",
        "p_d = 200/500\n",
        "d = p_c - p_d\n",
        "test_a = 0.05 # 유의수준 0.05\n",
        "d0 = 0 # 양품률 차 = 0\n",
        "\n",
        "pe = (n_c*p_c + n_d*p_d) / (n_c+n_d) # 합동표본비율\n",
        "SE = np.sqrt(pe*(1-pe)*(1/n_c+1/n_d)) # SE\n",
        "zstat = (d-d0) / SE # 검정통계량\n",
        "\n",
        "sp = (1-norm.cdf(np.abs(zstat)))*2 # 유의수준\n",
        "cv = norm.ppf(1-test_a/2) # 임계값\n",
        "print('임계값(기각역)',cv) # 검정통계량 > 기각역이면 귀무가설을 기각하고 대립가설을 채택한다.\n",
        "print('검정통계량',zstat)\n",
        "print('유의수준',test_a)\n",
        "print('유의확률',sp)"
      ],
      "metadata": {
        "id": "X0iTDXnhinTM"
      },
      "execution_count": null,
      "outputs": []
    },
    {
      "cell_type": "code",
      "source": [
        "# 유의확률이 0.00로 유의수준 0.05보다 작으므로 H0 귀무가설을 기각할 수 있다.\n",
        "# 마찬가지로, 검정통계량이 7.31925로 기각역 1.95996보다 크기 때문에 유의수준 0.05에서 귀무가설을 기각하고 대립가설을 채택할 수 있다.\n",
        "\n",
        "# C,D 두 회사의 생산 제품의 양품률에 차이가 있다고 할 수 있다."
      ],
      "metadata": {
        "id": "mnVcoxMTmzLM"
      },
      "execution_count": null,
      "outputs": []
    },
    {
      "cell_type": "markdown",
      "source": [
        "문제 7)\n",
        "아래 데이터는 a,b,c,d 네 차종 각각 5회 실험 시 범퍼 파손 정도 이다. (단, 각 모집단은 정규분포를 따르며 모집단 간 등분산성을 가정한다.)"
      ],
      "metadata": {
        "id": "pf1-JG7DiVxp"
      }
    },
    {
      "cell_type": "code",
      "source": [
        "# 정규성과 등분산성을 가정하였다. 네 차종 모두 실험 횟수가 같으므로 동일한 반복의 4개 집단에 대한 one-way ANOVA 검정(완전확률화계획법)을 수행한다.\n",
        "import pandas as pd\n",
        "from statsmodels.stats.oneway import anova_oneway\n",
        "df = pd.read_csv('https://raw.githubusercontent.com/Datamanim/datarepo/main/adp/29/p7.csv')\n",
        "df.head() # melt 데이터"
      ],
      "metadata": {
        "id": "dV9jPcXXinsf"
      },
      "execution_count": null,
      "outputs": []
    },
    {
      "cell_type": "markdown",
      "source": [
        "1) 각 차종 별 범퍼 파손의 정도에 차이가 유의한지 검정하라."
      ],
      "metadata": {
        "id": "KHsZTOssiV0U"
      }
    },
    {
      "cell_type": "code",
      "source": [
        "# H0 : 각 차종 별 범퍼 파손의 정도에 차이가 없다. (u_a=u_b=u_c=u_d)\n",
        "# H1 : 각 차종 별 범퍼 파손의 정도에 차이가 있다. (Not H0)"
      ],
      "metadata": {
        "id": "eTF2C7WcioQh"
      },
      "execution_count": null,
      "outputs": []
    },
    {
      "cell_type": "code",
      "source": [
        "oa = anova_oneway(data = df['ratio'],\n",
        "                  groups=df['name'],\n",
        "                  use_var = 'equal')\n",
        "print('검정통계량:',oa.statistic, \"유의확률:\",oa.pvalue)"
      ],
      "metadata": {
        "id": "VG1-xrDVqAWy"
      },
      "execution_count": null,
      "outputs": []
    },
    {
      "cell_type": "code",
      "source": [
        "# 유의확률이 0.00으로 유의수준 0.05보다 작기 때문에, 귀무가설을 기각하고 대립가설을 채택한다."
      ],
      "metadata": {
        "id": "hfd17m_Wqfjb"
      },
      "execution_count": null,
      "outputs": []
    },
    {
      "cell_type": "markdown",
      "source": [
        "2) 귀무가설을 채택한다면 그 의미를 해석하고, 귀무가설을 기각하였다면 사후분석을 시행하라."
      ],
      "metadata": {
        "id": "02TGydvPiV26"
      }
    },
    {
      "cell_type": "code",
      "source": [
        "# 귀무가설을 기각하였으므로 사후분석을 시행한다.\n",
        "# 정규성, 등분산산성을 만족하고 각 차종별 실험 회수가 동일하므로 Tukey HDS 사후분석을 시행한다.\n",
        "from statsmodels.sandbox.stats.multicomp import MultiComparison\n",
        "import matplotlib.pyplot as plt\n",
        "# from scipy.stats import ttest_id\n",
        "mc = MultiComparison(data = df['ratio'],\n",
        "                     groups = df['name']).tukeyhsd(alpha=0.05)\n",
        "print(mc)"
      ],
      "metadata": {
        "id": "2k2-ZlcziopC"
      },
      "execution_count": null,
      "outputs": []
    },
    {
      "cell_type": "code",
      "source": [
        "# 차종 A-B, A-C, B-C, B-D, C-D 간 차이는 유의확률(p-adj)이 모두 유의수준 0.05보다 작으므로 유의미하다(귀무가설을 reject)고 할 수 있다.\n",
        "# 차종 A-D 간 차이는 유의확률이 0.9207로 0.05보다 크므로 귀무가설을 채택하여 차이가 없다고 할 수 있다."
      ],
      "metadata": {
        "id": "wxLUsorAsJGB"
      },
      "execution_count": null,
      "outputs": []
    },
    {
      "cell_type": "markdown",
      "source": [
        "문제 8)\n",
        "L1, L2, L3 세 개의 생산라인에서 각각 13%, 37%, 50%를 생산하며 각각 1.1% , 2.1%, 3.3% 불량률을 갖는다. 불량 제품이 나왔을 때 L1 라인에서 생산되었을 확률을 구하시오. (소수점 둘째자리에서 반올림)"
      ],
      "metadata": {
        "id": "I4_zzFzTiV5h"
      }
    },
    {
      "cell_type": "code",
      "source": [
        "# 베이즈 정리\n",
        "l1 = 0.13\n",
        "l2 = 0.37\n",
        "l3 = 0.50\n",
        "\n",
        "pfault_l1 = 0.011\n",
        "pfault_l2 = 0.021\n",
        "pfault_l3 = 0.033\n",
        "\n",
        "pl1_bar_fault = (l1*pfault_l1) / (l1*pfault_l1 + l2*pfault_l2 + l3*pfault_l3)\n",
        "np.round(pl1_bar_fault,2)"
      ],
      "metadata": {
        "id": "JWnpDah1ipK7"
      },
      "execution_count": null,
      "outputs": []
    }
  ]
}